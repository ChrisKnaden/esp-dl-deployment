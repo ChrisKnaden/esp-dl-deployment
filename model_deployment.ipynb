{
 "cells": [
  {
   "cell_type": "code",
   "execution_count": null,
   "id": "initial_id",
   "metadata": {
    "collapsed": true
   },
   "outputs": [],
   "source": [
    "# Install required Python packages\n",
    "!pip install --upgrade pip  # Always good to ensure pip is up to date\n",
    "!pip install onnx onnxruntime git+https://github.com/espressif/esp-ppq.git\n",
    "!pip install protobuf==3.20.2\n",
    "!pip install torchvision==0.17.2\n",
    "!git lfs install\n",
    "!find imagenet-sample-images/ -mindepth 1 -name \".*\" -exec rm -rf {} +\n",
    "!pip install ultralytics\n"
   ]
  },
  {
   "metadata": {},
   "cell_type": "code",
   "outputs": [],
   "execution_count": null,
   "source": [
    "\"\"\"\n",
    "NOTE: In case you run into an error, restart the kernel and rerun this cell. Select in the menu bar 'Runtime -> Restart session'\n",
    "\"\"\"\n",
    "\n",
    "from pathlib import Path\n",
    "import os\n",
    "from typing import Final\n",
    "from PIL import Image\n",
    "from ppq.api import espdl_quantize_onnx\n",
    "import torch\n",
    "from torchvision import transforms\n",
    "from torch.utils.data import DataLoader, Dataset\n",
    "from ultralytics import YOLO\n"
   ],
   "id": "9c8bd184975fa16c"
  },
  {
   "metadata": {},
   "cell_type": "code",
   "outputs": [],
   "execution_count": null,
   "source": [
    "model = YOLO('./models/yolo11n.pt')\n",
    "\n",
    "torch_model = model.model.eval()"
   ],
   "id": "d49b66acb1880023"
  },
  {
   "metadata": {},
   "cell_type": "code",
   "outputs": [],
   "execution_count": null,
   "source": [
    "DEVICE: str = 'cpu'\n",
    "\n",
    "BATCH_SIZE = 1\n",
    "IMAGE_SIZE = 640\n",
    "\n",
    "IMAGENET_PATH: Final[Path] = Path('./sample-images')\n",
    "\n",
    "class ImageFolderDataset(Dataset):\n",
    "    def __init__(self, image_dir: Path, transform=None):\n",
    "        self.image_files = [\n",
    "            image_dir / f for f in os.listdir(image_dir)\n",
    "            if f.lower().endswith((\".jpg\", \".jpeg\", \".png\"))\n",
    "        ]\n",
    "        self.transform = transform\n",
    "\n",
    "    def __len__(self):\n",
    "        return len(self.image_files)\n",
    "\n",
    "    def __getitem__(self, idx):\n",
    "        image = Image.open(self.image_files[idx]).convert(\"RGB\")\n",
    "        if self.transform:\n",
    "            image = self.transform(image)\n",
    "        return image\n",
    "\n",
    "# Transformation (resize only — no normalization!)\n",
    "transform = transforms.Compose([\n",
    "    transforms.Resize((IMAGE_SIZE, IMAGE_SIZE)),\n",
    "    transforms.ToTensor(),\n",
    "])\n",
    "\n",
    "# Create dataset and dataloader\n",
    "cal_dataset = ImageFolderDataset(IMAGENET_PATH, transform=transform)\n",
    "cal_dataloader = DataLoader(\n",
    "    cal_dataset,\n",
    "    batch_size=BATCH_SIZE,\n",
    "    shuffle=False,\n",
    "    num_workers=0,\n",
    "    pin_memory=False,\n",
    ")\n",
    "\n"
   ],
   "id": "d692967138523b17"
  },
  {
   "metadata": {},
   "cell_type": "code",
   "outputs": [],
   "execution_count": null,
   "source": [
    "IMAGE_PATH: Final[Path] = Path('./sample-images')\n",
    "\n",
    "\n",
    "for img_path in IMAGE_PATH.glob(\"*.jpg\"):\n",
    "    results = model(img_path)\n",
    "    results[0].save(filename=f\"./preds-sample-images/output_{img_path.name}\")"
   ],
   "id": "475a12485a3ed090"
  },
  {
   "metadata": {},
   "cell_type": "code",
   "outputs": [],
   "execution_count": null,
   "source": [
    "# You need to execute the following command in this github project http://github.com/espressif/esp-dl in this folder models/coco_detect/models/\n",
    "# python export_onnx.py --weights ./yolo11n.pt --img 640 --batch 1"
   ],
   "id": "4c645cfe180034f1"
  },
  {
   "metadata": {},
   "cell_type": "code",
   "outputs": [],
   "execution_count": null,
   "source": [
    "ONNX_YOLO_PATH: Final[Path] = Path('./models/yolo11n.onnx')\n",
    "ESPDL_YOLO_PATH: Final[Path] = Path('./models/yolo11n.espdl')\n",
    "TARGET_SOC: Final[str] = 'esp32s3'\n",
    "NUM_OF_BITS: Final[int] = 8\n",
    "\n",
    "\n",
    "x = cal_dataset[0]\n",
    "if isinstance(x, (tuple, list)):\n",
    "    x = x[0]\n",
    "x = x.unsqueeze(0)\n",
    "\n",
    "def collate_fn(batch: torch.Tensor) -> torch.Tensor:\n",
    "    return batch.to(DEVICE)\n",
    "\n",
    "# make use of ESP-PPQ to quantize the ONNX computation graph, optimize it for ESP32-S3 SoC, and convert it to .espdl\n",
    "quantized_model = espdl_quantize_onnx(\n",
    "    onnx_import_file=ONNX_YOLO_PATH.as_posix(),\n",
    "    espdl_export_file=ESPDL_YOLO_PATH.as_posix(),\n",
    "    calib_dataloader=cal_dataloader,\n",
    "    calib_steps=8,\n",
    "    input_shape=x.shape,\n",
    "    inputs=None,\n",
    "    target=TARGET_SOC,\n",
    "    num_of_bits=NUM_OF_BITS,\n",
    "    collate_fn=collate_fn,\n",
    "    dispatching_override=None,\n",
    "    device=DEVICE,\n",
    "    error_report=True,\n",
    "    skip_export=False,\n",
    "    export_test_values=True,\n",
    "    verbose=1,\n",
    ")"
   ],
   "id": "a6343c205caf27eb"
  }
 ],
 "metadata": {
  "kernelspec": {
   "display_name": "Python 3",
   "language": "python",
   "name": "python3"
  },
  "language_info": {
   "codemirror_mode": {
    "name": "ipython",
    "version": 2
   },
   "file_extension": ".py",
   "mimetype": "text/x-python",
   "name": "python",
   "nbconvert_exporter": "python",
   "pygments_lexer": "ipython2",
   "version": "2.7.6"
  }
 },
 "nbformat": 4,
 "nbformat_minor": 5
}
